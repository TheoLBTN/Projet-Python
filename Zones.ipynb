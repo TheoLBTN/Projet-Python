{
 "cells": [
  {
   "cell_type": "code",
   "execution_count": 1,
   "id": "4629d8d7-8380-41e5-a31d-378388e289c6",
   "metadata": {},
   "outputs": [],
   "source": [
    "import geopandas as gpd"
   ]
  },
  {
   "cell_type": "code",
   "execution_count": 2,
   "id": "f7023495-0903-4dbc-8ff6-eb9544364c34",
   "metadata": {},
   "outputs": [
    {
     "name": "stderr",
     "output_type": "stream",
     "text": [
      "ERROR 1: PROJ: proj_create_from_database: Open of /opt/mamba/share/proj failed\n"
     ]
    }
   ],
   "source": [
    "zones = gpd.read_file('aires.geojson')"
   ]
  },
  {
   "cell_type": "code",
   "execution_count": 3,
   "id": "653906a3-baa0-4c3e-ab54-6bc8e1296986",
   "metadata": {},
   "outputs": [
    {
     "name": "stderr",
     "output_type": "stream",
     "text": [
      "/tmp/ipykernel_44150/2431039618.py:6: ShapelyDeprecationWarning: The 'type' attribute is deprecated, and will be removed in the future. You can use the 'geom_type' attribute instead.\n",
      "  if z[i].type == 'Polygon':\n",
      "/tmp/ipykernel_44150/2431039618.py:8: ShapelyDeprecationWarning: The 'type' attribute is deprecated, and will be removed in the future. You can use the 'geom_type' attribute instead.\n",
      "  elif z[i].type == 'MultiPolygon':\n"
     ]
    }
   ],
   "source": [
    "#Calcul de l'aire des zones de restriction de la circulation Crit'Air\n",
    "aires = []\n",
    "z = zones['geometry']\n",
    "for i in range(len(z)):\n",
    "    a = 0\n",
    "    if z[i].type == 'Polygon':\n",
    "        aires.append(poly.area)\n",
    "    elif z[i].type == 'MultiPolygon':\n",
    "        for poly in z[i].geoms:\n",
    "            a += poly.area\n",
    "        aires.append(a)\n",
    "zones['Shape_Area']=aires"
   ]
  },
  {
   "cell_type": "code",
   "execution_count": null,
   "id": "9bc9b0c4-71b0-4c63-937e-4235337247a6",
   "metadata": {},
   "outputs": [],
   "source": [
    "zones"
   ]
  },
  {
   "cell_type": "code",
   "execution_count": null,
   "id": "e47444ed-ca3b-4dfb-8124-6a7a0ea65179",
   "metadata": {},
   "outputs": [],
   "source": []
  }
 ],
 "metadata": {
  "kernelspec": {
   "display_name": "Python 3 (ipykernel)",
   "language": "python",
   "name": "python3"
  },
  "language_info": {
   "codemirror_mode": {
    "name": "ipython",
    "version": 3
   },
   "file_extension": ".py",
   "mimetype": "text/x-python",
   "name": "python",
   "nbconvert_exporter": "python",
   "pygments_lexer": "ipython3",
   "version": "3.10.13"
  }
 },
 "nbformat": 4,
 "nbformat_minor": 5
}
