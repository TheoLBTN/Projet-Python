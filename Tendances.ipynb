{
 "cells": [
  {
   "cell_type": "code",
   "execution_count": null,
   "id": "2f272bbb-dfe5-4d56-b389-896c3946789b",
   "metadata": {},
   "outputs": [],
   "source": [
    "# Importations\n",
    "import pandas as pd\n",
    "import numpy as np\n",
    "import matplotlib.pyplot as plt\n",
    "from scipy.stats import binom\n",
    "from sklearn.linear_model import LinearRegression\n",
    "from scipy.optimize import curve_fit\n",
    "\n",
    "pd.set_option('display.max_rows', 25)\n",
    "pd.set_option('display.max_columns', 40)"
   ]
  },
  {
   "cell_type": "code",
   "execution_count": null,
   "id": "f755bd1d-3203-41ff-9591-4d5454d549e7",
   "metadata": {},
   "outputs": [],
   "source": [
    "# Collecte des données\n",
    "data=pd.read_csv(\"Donnees-sur-le-parc-de-vehicule-au-niveau-regional.2023-05.csv\", sep=';',header=[1])"
   ]
  },
  {
   "cell_type": "code",
   "execution_count": null,
   "id": "d5d6a848-1299-4581-a6c8-c080aaad7d25",
   "metadata": {},
   "outputs": [],
   "source": [
    "# Variables utiles durant tout le programme\n",
    "variables = ['PARC_2011','PARC_2012','PARC_2013','PARC_2014','PARC_2015','PARC_2016','PARC_2017','PARC_2018','PARC_2019','PARC_2020','PARC_2021','PARC_2022']\n",
    "regions = data['REGION_LIBELLE'].unique()\n",
    "regionsr = ['Auvergne-Rhône-Alpes', 'Bourgogne-Franche-Comté', 'Bretagne',\n",
    "       'Centre-Val de Loire', 'Corse', 'Grand Est', 'Guadeloupe',\n",
    "       'Guyane', 'Hauts-de-France', 'La Réunion',\n",
    "       'Martinique', 'Mayotte', 'Normandie', 'Nouvelle-Aquitaine',\n",
    "       'Occitanie', 'Pays de la Loire', \"Provence-Alpes-Côte d'Azur\",\n",
    "       'Île-de-France']\n",
    "regionsmet = ['Auvergne-Rhône-Alpes', 'Bourgogne-Franche-Comté', 'Bretagne',\n",
    "       'Centre-Val de Loire', 'Grand Est', \n",
    "        'Hauts-de-France', 'Normandie', 'Nouvelle-Aquitaine',\n",
    "       'Occitanie', 'Pays de la Loire', \"Provence-Alpes-Côte d'Azur\",\n",
    "       'Île-de-France']\n",
    "regionsmethorsb = ['Auvergne-Rhône-Alpes', 'Bretagne',\n",
    "       'Centre-Val de Loire', 'Grand Est', \n",
    "        'Hauts-de-France', 'Normandie', 'Nouvelle-Aquitaine',\n",
    "       'Occitanie', 'Pays de la Loire', \"Provence-Alpes-Côte d'Azur\",\n",
    "       'Île-de-France']\n",
    "critair = data['CRITAIR'].unique()"
   ]
  }
 ],
 "metadata": {
  "kernelspec": {
   "display_name": "Python 3 (ipykernel)",
   "language": "python",
   "name": "python3"
  },
  "language_info": {
   "codemirror_mode": {
    "name": "ipython",
    "version": 3
   },
   "file_extension": ".py",
   "mimetype": "text/x-python",
   "name": "python",
   "nbconvert_exporter": "python",
   "pygments_lexer": "ipython3",
   "version": "3.10.13"
  }
 },
 "nbformat": 4,
 "nbformat_minor": 5
}
